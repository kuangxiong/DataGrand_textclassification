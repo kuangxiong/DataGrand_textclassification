{
 "cells": [
  {
   "cell_type": "code",
   "execution_count": 1,
   "metadata": {},
   "outputs": [],
   "source": [
    "import pandas as pd \n",
    "import gensim\n",
    "import pandas as pd\n",
    "import numpy as np\n",
    "from tqdm import tqdm\n",
    "import lightgbm as lgb\n",
    "from lightgbm import LGBMClassifier\n",
    "from scipy.sparse import coo_matrix\n",
    "from sklearn.model_selection import train_test_split"
   ]
  },
  {
   "cell_type": "code",
   "execution_count": 2,
   "metadata": {},
   "outputs": [],
   "source": [
    "from sklearn.feature_extraction.text import TfidfVectorizer\n",
    "from sklearn.decomposition import TruncatedSVD\n",
    "from sklearn.linear_model import LogisticRegression\n",
    "from sklearn.metrics import roc_auc_score\n",
    "from sklearn.model_selection import StratifiedKFold\n",
    "from gensim import corpora, models"
   ]
  },
  {
   "cell_type": "code",
   "execution_count": 3,
   "metadata": {},
   "outputs": [],
   "source": [
    "df_train = pd.read_csv(\"../data_source/datagrand_2021_train.csv\")\n",
    "df_test = pd.read_csv(\"../data_source/datagrand_2021_test.csv\")\n",
    "label = df_train['label'].values\n",
    "df = pd.concat([df_train, df_test], ignore_index=True)"
   ]
  },
  {
   "cell_type": "code",
   "execution_count": 4,
   "metadata": {},
   "outputs": [
    {
     "data": {
      "text/html": [
       "<div>\n",
       "<style scoped>\n",
       "    .dataframe tbody tr th:only-of-type {\n",
       "        vertical-align: middle;\n",
       "    }\n",
       "\n",
       "    .dataframe tbody tr th {\n",
       "        vertical-align: top;\n",
       "    }\n",
       "\n",
       "    .dataframe thead th {\n",
       "        text-align: right;\n",
       "    }\n",
       "</style>\n",
       "<table border=\"1\" class=\"dataframe\">\n",
       "  <thead>\n",
       "    <tr style=\"text-align: right;\">\n",
       "      <th></th>\n",
       "      <th>id</th>\n",
       "      <th>text</th>\n",
       "      <th>label</th>\n",
       "    </tr>\n",
       "  </thead>\n",
       "  <tbody>\n",
       "    <tr>\n",
       "      <th>0</th>\n",
       "      <td>0</td>\n",
       "      <td>7442 27878 9601 235 4004 10636 19121 28648 227...</td>\n",
       "      <td>5-30</td>\n",
       "    </tr>\n",
       "    <tr>\n",
       "      <th>1</th>\n",
       "      <td>1</td>\n",
       "      <td>2281 24058 20163 22737 25572 1845 10446 28438 ...</td>\n",
       "      <td>5-30</td>\n",
       "    </tr>\n",
       "    <tr>\n",
       "      <th>2</th>\n",
       "      <td>2</td>\n",
       "      <td>12163 8224 13343 26307 18947 10922 10446 8679 ...</td>\n",
       "      <td>1-1</td>\n",
       "    </tr>\n",
       "    <tr>\n",
       "      <th>3</th>\n",
       "      <td>3</td>\n",
       "      <td>28685 16037 3261 14485 26363 16037 29555 8766 ...</td>\n",
       "      <td>1-9</td>\n",
       "    </tr>\n",
       "    <tr>\n",
       "      <th>4</th>\n",
       "      <td>4</td>\n",
       "      <td>10974 16249 8266 16328 2103 4198 929 4685 2254...</td>\n",
       "      <td>1-9</td>\n",
       "    </tr>\n",
       "  </tbody>\n",
       "</table>\n",
       "</div>"
      ],
      "text/plain": [
       "   id                                               text label\n",
       "0   0  7442 27878 9601 235 4004 10636 19121 28648 227...  5-30\n",
       "1   1  2281 24058 20163 22737 25572 1845 10446 28438 ...  5-30\n",
       "2   2  12163 8224 13343 26307 18947 10922 10446 8679 ...   1-1\n",
       "3   3  28685 16037 3261 14485 26363 16037 29555 8766 ...   1-9\n",
       "4   4  10974 16249 8266 16328 2103 4198 929 4685 2254...   1-9"
      ]
     },
     "execution_count": 4,
     "metadata": {},
     "output_type": "execute_result"
    }
   ],
   "source": [
    "df.head(5)"
   ]
  },
  {
   "cell_type": "code",
   "execution_count": 25,
   "metadata": {},
   "outputs": [
    {
     "data": {
      "text/plain": [
       "1-9      1931\n",
       "5-30     1289\n",
       "1-1      1092\n",
       "2-3       986\n",
       "2-6       815\n",
       "1-4       799\n",
       "2-2       736\n",
       "6-15      638\n",
       "4-7       624\n",
       "1-10      622\n",
       "2-33      591\n",
       "5-35      377\n",
       "2-11      358\n",
       "6-29      323\n",
       "6-8       293\n",
       "2-14      281\n",
       "5-22      247\n",
       "2-25      239\n",
       "6-28      223\n",
       "5-12      205\n",
       "6-13      185\n",
       "6-19      178\n",
       "2-17      176\n",
       "6-34      159\n",
       "6-31      156\n",
       "6-21      134\n",
       "6-32      103\n",
       "5-24       62\n",
       "8-27       49\n",
       "6-20       33\n",
       "7-16       32\n",
       "8-18       20\n",
       "9-23       19\n",
       "10-26      18\n",
       "3-5        16\n",
       "Name: label, dtype: int64"
      ]
     },
     "execution_count": 25,
     "metadata": {},
     "output_type": "execute_result"
    }
   ],
   "source": [
    "df_train['label'].value_counts()"
   ]
  },
  {
   "cell_type": "code",
   "execution_count": 5,
   "metadata": {},
   "outputs": [],
   "source": [
    "train_list = []\n",
    "for i in range(len(df)):\n",
    "    train_list.append(df['text'][i].split(' '))"
   ]
  },
  {
   "cell_type": "code",
   "execution_count": 49,
   "metadata": {},
   "outputs": [
    {
     "name": "stdout",
     "output_type": "stream",
     "text": [
      "总类别数: 35 35\n"
     ]
    }
   ],
   "source": [
    "# label 转化为 label_id\n",
    "label_id_map = {}\n",
    "id_label_map = {}\n",
    "k = 0\n",
    "for e in sorted(set(label)):\n",
    "    label_id_map[e] = k \n",
    "    id_label_map[k] = e\n",
    "    k += 1\n",
    "print(\"总类别数:\", len(label_id_map), len(id_label_map))"
   ]
  },
  {
   "cell_type": "code",
   "execution_count": 7,
   "metadata": {},
   "outputs": [],
   "source": [
    "label_id = df_train['label'].apply(lambda x: label_id_map[x])"
   ]
  },
  {
   "cell_type": "code",
   "execution_count": 8,
   "metadata": {},
   "outputs": [
    {
     "data": {
      "text/plain": [
       "3456"
      ]
     },
     "execution_count": 8,
     "metadata": {},
     "output_type": "execute_result"
    }
   ],
   "source": [
    "dic = corpora.Dictionary(train_list)\n",
    "len(dic)"
   ]
  },
  {
   "cell_type": "code",
   "execution_count": 34,
   "metadata": {},
   "outputs": [],
   "source": [
    "# len(set(train_list[3])), dic.doc2bow(train_list[10])"
   ]
  },
  {
   "cell_type": "code",
   "execution_count": 9,
   "metadata": {},
   "outputs": [],
   "source": [
    "new_corpus = [dic.doc2bow(words) for words in train_list]"
   ]
  },
  {
   "cell_type": "code",
   "execution_count": 10,
   "metadata": {},
   "outputs": [],
   "source": [
    "tfidf = models.TfidfModel(new_corpus)"
   ]
  },
  {
   "cell_type": "code",
   "execution_count": 42,
   "metadata": {},
   "outputs": [],
   "source": [
    "matrix = np.zeros((len(train_list), len(dic)))\n",
    "for i in range(len(train_list)):\n",
    "    string_bow = dic.doc2bow(train_list[i])\n",
    "#     print(string_bow)\n",
    "    string_dic = tfidf[string_bow]\n",
    "    for e in string_dic:\n",
    "        matrix[i][e[0]] = e[1]"
   ]
  },
  {
   "cell_type": "code",
   "execution_count": 43,
   "metadata": {},
   "outputs": [],
   "source": [
    "matrix[0]\n",
    "matrix_sparse = coo_matrix(matrix)"
   ]
  },
  {
   "cell_type": "code",
   "execution_count": 13,
   "metadata": {},
   "outputs": [],
   "source": [
    "svd_feature = TruncatedSVD(n_components=100).fit_transform(matrix_sparse)\n",
    "train_df = svd_feature[:-len(df_test)]\n",
    "test_df = svd_feature[-len(df_test):]"
   ]
  },
  {
   "cell_type": "code",
   "execution_count": 14,
   "metadata": {},
   "outputs": [],
   "source": [
    "train_X, test_X, train_Y, test_Y = train_test_split(train_df, label_id, \\\n",
    "                                test_size=0.2, random_state=2021, stratify=label_id)"
   ]
  },
  {
   "cell_type": "code",
   "execution_count": 15,
   "metadata": {},
   "outputs": [
    {
     "data": {
      "text/plain": [
       "(11207, 2802)"
      ]
     },
     "execution_count": 15,
     "metadata": {},
     "output_type": "execute_result"
    }
   ],
   "source": [
    "len(train_X), len(test_X)"
   ]
  },
  {
   "cell_type": "code",
   "execution_count": 16,
   "metadata": {},
   "outputs": [
    {
     "name": "stdout",
     "output_type": "stream",
     "text": [
      "训练数据：测试数据= 11207 11207\n"
     ]
    }
   ],
   "source": [
    "print(\"训练数据：测试数据=\", len(train_X), len(train_Y))"
   ]
  },
  {
   "cell_type": "code",
   "execution_count": 17,
   "metadata": {},
   "outputs": [],
   "source": [
    "train_data = lgb.Dataset(train_X, label=train_Y)\n",
    "valid_data = lgb.Dataset(test_X, label=test_Y)"
   ]
  },
  {
   "cell_type": "code",
   "execution_count": 18,
   "metadata": {},
   "outputs": [],
   "source": [
    "params = {'num_leaves': 40, #结果对最终效果影响较大，越大值越好，太大会出现过拟合\n",
    "          'min_data_in_leaf': 30,\n",
    "#           'objective': 'binary', #定义的目标函数\n",
    "          \"objective\":'multiclass',\n",
    "          'max_depth': -1,\n",
    "          'learning_rate': 0.3,\n",
    "          \"min_sum_hessian_in_leaf\": 6,\n",
    "          \"boosting\": \"gbdt\",\n",
    "          \"feature_fraction\": 0.9,\t#提取的特征比率\n",
    "          \"bagging_freq\": 1,\n",
    "          \"bagging_fraction\": 0.8,\n",
    "          \"bagging_seed\": 11,\n",
    "          \"lambda_l1\": 0.5,\t\t\t\t#l1正则\n",
    "          'lambda_l2': 0.5,\t\t#l2正则\n",
    "          \"verbosity\": -1,\n",
    "          \"nthread\": -1,\t\t\t\t#线程数量，-1表示全部线程，线程越多，运行的速度越快\n",
    "          \"num_class\": 35, \n",
    "          \"metric\":'multi_error',\n",
    "#           \"metric\":{'auc_mu'},\n",
    "#           'metric':{'auc', 'f1'},\n",
    "#           'metric':{'acc'},\n",
    "#           'metric': {'binary_logloss', 'auc'},\t##评价函数选择\n",
    "          \"random_state\": 2020,\t#随机数种子，可以防止每次运行的结果不一致\n",
    "          # 'device': 'gpu' ##如果安装的事gpu版本的lightgbm,可以加快运算\n",
    "          }"
   ]
  },
  {
   "cell_type": "code",
   "execution_count": 19,
   "metadata": {},
   "outputs": [
    {
     "name": "stdout",
     "output_type": "stream",
     "text": [
      "[1]\ttraining's multi_error: 0.617739\tvalid_1's multi_error: 0.661313\n",
      "[2]\ttraining's multi_error: 0.523244\tvalid_1's multi_error: 0.60778\n",
      "[3]\ttraining's multi_error: 0.45079\tvalid_1's multi_error: 0.583155\n",
      "[4]\ttraining's multi_error: 0.396002\tvalid_1's multi_error: 0.562455\n",
      "[5]\ttraining's multi_error: 0.351031\tvalid_1's multi_error: 0.552106\n",
      "[6]\ttraining's multi_error: 0.307129\tvalid_1's multi_error: 0.547466\n",
      "[7]\ttraining's multi_error: 0.275631\tvalid_1's multi_error: 0.534618\n",
      "[8]\ttraining's multi_error: 0.245293\tvalid_1's multi_error: 0.528551\n",
      "[9]\ttraining's multi_error: 0.220487\tvalid_1's multi_error: 0.519986\n",
      "[10]\ttraining's multi_error: 0.191487\tvalid_1's multi_error: 0.519272\n",
      "[11]\ttraining's multi_error: 0.170429\tvalid_1's multi_error: 0.517131\n",
      "[12]\ttraining's multi_error: 0.152851\tvalid_1's multi_error: 0.512491\n",
      "[13]\ttraining's multi_error: 0.13438\tvalid_1's multi_error: 0.507495\n",
      "[14]\ttraining's multi_error: 0.118497\tvalid_1's multi_error: 0.509993\n",
      "[15]\ttraining's multi_error: 0.105916\tvalid_1's multi_error: 0.508208\n",
      "[16]\ttraining's multi_error: 0.0934238\tvalid_1's multi_error: 0.500714\n",
      "[17]\ttraining's multi_error: 0.08227\tvalid_1's multi_error: 0.498929\n",
      "[18]\ttraining's multi_error: 0.0724547\tvalid_1's multi_error: 0.492148\n",
      "[19]\ttraining's multi_error: 0.0618364\tvalid_1's multi_error: 0.494647\n",
      "[20]\ttraining's multi_error: 0.0540733\tvalid_1's multi_error: 0.495004\n",
      "[21]\ttraining's multi_error: 0.0455965\tvalid_1's multi_error: 0.49536\n",
      "[22]\ttraining's multi_error: 0.0403319\tvalid_1's multi_error: 0.493219\n",
      "[23]\ttraining's multi_error: 0.034532\tvalid_1's multi_error: 0.49429\n",
      "[24]\ttraining's multi_error: 0.0301597\tvalid_1's multi_error: 0.490007\n",
      "[25]\ttraining's multi_error: 0.0269474\tvalid_1's multi_error: 0.489293\n",
      "[26]\ttraining's multi_error: 0.0240029\tvalid_1's multi_error: 0.487866\n",
      "[27]\ttraining's multi_error: 0.0210583\tvalid_1's multi_error: 0.486438\n",
      "[28]\ttraining's multi_error: 0.019006\tvalid_1's multi_error: 0.482512\n",
      "[29]\ttraining's multi_error: 0.0170429\tvalid_1's multi_error: 0.482512\n",
      "[30]\ttraining's multi_error: 0.0158829\tvalid_1's multi_error: 0.482869\n",
      "[31]\ttraining's multi_error: 0.0140983\tvalid_1's multi_error: 0.482512\n",
      "[32]\ttraining's multi_error: 0.0126707\tvalid_1's multi_error: 0.477159\n",
      "[33]\ttraining's multi_error: 0.0113322\tvalid_1's multi_error: 0.4793\n",
      "[34]\ttraining's multi_error: 0.0108861\tvalid_1's multi_error: 0.478587\n",
      "[35]\ttraining's multi_error: 0.0104399\tvalid_1's multi_error: 0.477516\n",
      "[36]\ttraining's multi_error: 0.00990452\tvalid_1's multi_error: 0.482156\n",
      "[37]\ttraining's multi_error: 0.00927991\tvalid_1's multi_error: 0.480014\n",
      "[38]\ttraining's multi_error: 0.00874453\tvalid_1's multi_error: 0.477159\n",
      "[39]\ttraining's multi_error: 0.00820915\tvalid_1's multi_error: 0.476089\n",
      "[40]\ttraining's multi_error: 0.00794147\tvalid_1's multi_error: 0.477873\n",
      "[41]\ttraining's multi_error: 0.00758455\tvalid_1's multi_error: 0.478944\n",
      "[42]\ttraining's multi_error: 0.00749532\tvalid_1's multi_error: 0.474304\n",
      "[43]\ttraining's multi_error: 0.00704917\tvalid_1's multi_error: 0.474661\n",
      "[44]\ttraining's multi_error: 0.00704917\tvalid_1's multi_error: 0.472877\n",
      "[45]\ttraining's multi_error: 0.00687071\tvalid_1's multi_error: 0.473233\n",
      "[46]\ttraining's multi_error: 0.00642456\tvalid_1's multi_error: 0.472877\n",
      "[47]\ttraining's multi_error: 0.00633533\tvalid_1's multi_error: 0.47252\n",
      "[48]\ttraining's multi_error: 0.0062461\tvalid_1's multi_error: 0.47252\n",
      "[49]\ttraining's multi_error: 0.00606764\tvalid_1's multi_error: 0.47252\n",
      "[50]\ttraining's multi_error: 0.00606764\tvalid_1's multi_error: 0.473233\n",
      "[51]\ttraining's multi_error: 0.00588918\tvalid_1's multi_error: 0.47252\n",
      "[52]\ttraining's multi_error: 0.00571072\tvalid_1's multi_error: 0.473947\n",
      "[53]\ttraining's multi_error: 0.00553226\tvalid_1's multi_error: 0.474661\n",
      "[54]\ttraining's multi_error: 0.00544303\tvalid_1's multi_error: 0.471092\n",
      "[55]\ttraining's multi_error: 0.00553226\tvalid_1's multi_error: 0.470735\n",
      "[56]\ttraining's multi_error: 0.00544303\tvalid_1's multi_error: 0.471449\n",
      "[57]\ttraining's multi_error: 0.0053538\tvalid_1's multi_error: 0.470378\n",
      "[58]\ttraining's multi_error: 0.00553226\tvalid_1's multi_error: 0.467523\n",
      "[59]\ttraining's multi_error: 0.00544303\tvalid_1's multi_error: 0.469308\n",
      "[60]\ttraining's multi_error: 0.00544303\tvalid_1's multi_error: 0.471092\n",
      "[61]\ttraining's multi_error: 0.00571072\tvalid_1's multi_error: 0.470378\n",
      "[62]\ttraining's multi_error: 0.00553226\tvalid_1's multi_error: 0.471806\n",
      "[63]\ttraining's multi_error: 0.00544303\tvalid_1's multi_error: 0.470021\n",
      "[64]\ttraining's multi_error: 0.00553226\tvalid_1's multi_error: 0.469665\n",
      "[65]\ttraining's multi_error: 0.00553226\tvalid_1's multi_error: 0.470378\n",
      "[66]\ttraining's multi_error: 0.00544303\tvalid_1's multi_error: 0.471092\n",
      "[67]\ttraining's multi_error: 0.00544303\tvalid_1's multi_error: 0.469308\n",
      "[68]\ttraining's multi_error: 0.0053538\tvalid_1's multi_error: 0.470021\n",
      "[69]\ttraining's multi_error: 0.0053538\tvalid_1's multi_error: 0.469308\n",
      "[70]\ttraining's multi_error: 0.00544303\tvalid_1's multi_error: 0.470378\n",
      "[71]\ttraining's multi_error: 0.0053538\tvalid_1's multi_error: 0.467166\n",
      "[72]\ttraining's multi_error: 0.0053538\tvalid_1's multi_error: 0.471092\n",
      "[73]\ttraining's multi_error: 0.00544303\tvalid_1's multi_error: 0.470021\n",
      "[74]\ttraining's multi_error: 0.0053538\tvalid_1's multi_error: 0.469665\n",
      "[75]\ttraining's multi_error: 0.0053538\tvalid_1's multi_error: 0.474304\n",
      "[76]\ttraining's multi_error: 0.0053538\tvalid_1's multi_error: 0.472877\n",
      "[77]\ttraining's multi_error: 0.0053538\tvalid_1's multi_error: 0.47359\n",
      "[78]\ttraining's multi_error: 0.0053538\tvalid_1's multi_error: 0.472877\n",
      "[79]\ttraining's multi_error: 0.0053538\tvalid_1's multi_error: 0.472163\n",
      "[80]\ttraining's multi_error: 0.0053538\tvalid_1's multi_error: 0.471092\n",
      "[81]\ttraining's multi_error: 0.0053538\tvalid_1's multi_error: 0.470378\n",
      "[82]\ttraining's multi_error: 0.0053538\tvalid_1's multi_error: 0.469308\n",
      "[83]\ttraining's multi_error: 0.0053538\tvalid_1's multi_error: 0.468594\n",
      "[84]\ttraining's multi_error: 0.00526457\tvalid_1's multi_error: 0.468594\n",
      "[85]\ttraining's multi_error: 0.00526457\tvalid_1's multi_error: 0.469665\n",
      "[86]\ttraining's multi_error: 0.00517534\tvalid_1's multi_error: 0.469308\n",
      "[87]\ttraining's multi_error: 0.00517534\tvalid_1's multi_error: 0.468951\n",
      "[88]\ttraining's multi_error: 0.00517534\tvalid_1's multi_error: 0.467523\n",
      "[89]\ttraining's multi_error: 0.00517534\tvalid_1's multi_error: 0.468237\n",
      "[90]\ttraining's multi_error: 0.00526457\tvalid_1's multi_error: 0.46788\n",
      "[91]\ttraining's multi_error: 0.00526457\tvalid_1's multi_error: 0.466453\n",
      "[92]\ttraining's multi_error: 0.00517534\tvalid_1's multi_error: 0.466096\n",
      "[93]\ttraining's multi_error: 0.00526457\tvalid_1's multi_error: 0.467166\n",
      "[94]\ttraining's multi_error: 0.00517534\tvalid_1's multi_error: 0.467166\n",
      "[95]\ttraining's multi_error: 0.00526457\tvalid_1's multi_error: 0.466809\n",
      "[96]\ttraining's multi_error: 0.00526457\tvalid_1's multi_error: 0.466096\n",
      "[97]\ttraining's multi_error: 0.00517534\tvalid_1's multi_error: 0.46788\n",
      "[98]\ttraining's multi_error: 0.00517534\tvalid_1's multi_error: 0.469665\n",
      "[99]\ttraining's multi_error: 0.00517534\tvalid_1's multi_error: 0.46788\n",
      "[100]\ttraining's multi_error: 0.00517534\tvalid_1's multi_error: 0.469308\n"
     ]
    }
   ],
   "source": [
    "evals_result = {} ## 记录结果所用\n",
    "clf=lgb.train(params,\n",
    "              train_data,\n",
    "              valid_sets=[train_data, valid_data],\n",
    "              evals_result = evals_result\n",
    "             )\n",
    "\n"
   ]
  },
  {
   "cell_type": "code",
   "execution_count": 20,
   "metadata": {},
   "outputs": [
    {
     "data": {
      "image/png": "[encoded data removed]",
      "text/plain": [
       "<Figure size 432x288 with 1 Axes>"
      ]
     },
     "metadata": {
      "needs_background": "light"
     },
     "output_type": "display_data"
    }
   ],
   "source": [
    "ax = lgb.plot_metric(evals_result)"
   ]
  },
  {
   "cell_type": "code",
   "execution_count": 44,
   "metadata": {},
   "outputs": [],
   "source": [
    "y_pred=clf.predict(test_df)"
   ]
  },
  {
   "cell_type": "code",
   "execution_count": 54,
   "metadata": {},
   "outputs": [],
   "source": [
    "results= []\n",
    "for i in range(len(y_pred)):\n",
    "    results.append(id_label_map[np.argmax(y_pred[i])])"
   ]
  },
  {
   "cell_type": "markdown",
   "metadata": {},
   "source": [
    "### 2. 提交结果整理"
   ]
  },
  {
   "cell_type": "code",
   "execution_count": 55,
   "metadata": {},
   "outputs": [],
   "source": [
    "# 样例\n",
    "sample = pd.read_csv(\"../data_source/sample_submission.csv\")"
   ]
  },
  {
   "cell_type": "code",
   "execution_count": 56,
   "metadata": {},
   "outputs": [
    {
     "data": {
      "text/html": [
       "<div>\n",
       "<style scoped>\n",
       "    .dataframe tbody tr th:only-of-type {\n",
       "        vertical-align: middle;\n",
       "    }\n",
       "\n",
       "    .dataframe tbody tr th {\n",
       "        vertical-align: top;\n",
       "    }\n",
       "\n",
       "    .dataframe thead th {\n",
       "        text-align: right;\n",
       "    }\n",
       "</style>\n",
       "<table border=\"1\" class=\"dataframe\">\n",
       "  <thead>\n",
       "    <tr style=\"text-align: right;\">\n",
       "      <th></th>\n",
       "      <th>id</th>\n",
       "      <th>label</th>\n",
       "    </tr>\n",
       "  </thead>\n",
       "  <tbody>\n",
       "    <tr>\n",
       "      <th>0</th>\n",
       "      <td>0</td>\n",
       "      <td>2-14</td>\n",
       "    </tr>\n",
       "    <tr>\n",
       "      <th>1</th>\n",
       "      <td>1</td>\n",
       "      <td>2-17</td>\n",
       "    </tr>\n",
       "    <tr>\n",
       "      <th>2</th>\n",
       "      <td>2</td>\n",
       "      <td>5-12</td>\n",
       "    </tr>\n",
       "    <tr>\n",
       "      <th>3</th>\n",
       "      <td>3</td>\n",
       "      <td>5-35</td>\n",
       "    </tr>\n",
       "    <tr>\n",
       "      <th>4</th>\n",
       "      <td>4</td>\n",
       "      <td>1-1</td>\n",
       "    </tr>\n",
       "  </tbody>\n",
       "</table>\n",
       "</div>"
      ],
      "text/plain": [
       "   id label\n",
       "0   0  2-14\n",
       "1   1  2-17\n",
       "2   2  5-12\n",
       "3   3  5-35\n",
       "4   4   1-1"
      ]
     },
     "execution_count": 56,
     "metadata": {},
     "output_type": "execute_result"
    }
   ],
   "source": [
    "sample.head(5)"
   ]
  },
  {
   "cell_type": "code",
   "execution_count": 59,
   "metadata": {},
   "outputs": [],
   "source": [
    "myresult = {\"id\":list(df_test['id'].values), \"label\":results}"
   ]
  },
  {
   "cell_type": "code",
   "execution_count": 63,
   "metadata": {},
   "outputs": [],
   "source": [
    "pd.DataFrame(myresult).to_csv(\"results/myresult.csv\", index=False)"
   ]
  },
  {
   "cell_type": "code",
   "execution_count": null,
   "metadata": {},
   "outputs": [],
   "source": []
  }
 ],
 "metadata": {
  "kernelspec": {
   "display_name": "tf2",
   "language": "python",
   "name": "tf2"
  },
  "language_info": {
   "codemirror_mode": {
    "name": "ipython",
    "version": 3
   },
   "file_extension": ".py",
   "mimetype": "text/x-python",
   "name": "python",
   "nbconvert_exporter": "python",
   "pygments_lexer": "ipython3",
   "version": "3.8.2"
  }
 },
 "nbformat": 4,
 "nbformat_minor": 4
}
